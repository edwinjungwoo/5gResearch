{
 "cells": [
  {
   "cell_type": "code",
   "execution_count": 1,
   "id": "36664e10",
   "metadata": {},
   "outputs": [],
   "source": [
    "import pandas as pd\n",
    "import numpy as np\n",
    "import matplotlib.pyplot as plt"
   ]
  },
  {
   "cell_type": "code",
   "execution_count": 2,
   "id": "86e6fcee",
   "metadata": {},
   "outputs": [],
   "source": [
    "data = pd.read_csv('twitch_tv.csv')"
   ]
  },
  {
   "cell_type": "code",
   "execution_count": 3,
   "id": "d9be7dfc",
   "metadata": {},
   "outputs": [
    {
     "data": {
      "text/html": [
       "<div>\n",
       "<style scoped>\n",
       "    .dataframe tbody tr th:only-of-type {\n",
       "        vertical-align: middle;\n",
       "    }\n",
       "\n",
       "    .dataframe tbody tr th {\n",
       "        vertical-align: top;\n",
       "    }\n",
       "\n",
       "    .dataframe thead th {\n",
       "        text-align: right;\n",
       "    }\n",
       "</style>\n",
       "<table border=\"1\" class=\"dataframe\">\n",
       "  <thead>\n",
       "    <tr style=\"text-align: right;\">\n",
       "      <th></th>\n",
       "      <th>No.</th>\n",
       "      <th>Time</th>\n",
       "      <th>Source</th>\n",
       "      <th>Destination</th>\n",
       "      <th>Protocol</th>\n",
       "      <th>Length</th>\n",
       "      <th>Info</th>\n",
       "    </tr>\n",
       "  </thead>\n",
       "  <tbody>\n",
       "    <tr>\n",
       "      <th>0</th>\n",
       "      <td>1</td>\n",
       "      <td>0.000000</td>\n",
       "      <td>64:ff9b::36e6:a86c</td>\n",
       "      <td>2001:2d8:e66a:6a64:88dd:1e73:cab2:5129</td>\n",
       "      <td>TLSv1.2</td>\n",
       "      <td>469</td>\n",
       "      <td>Application Data</td>\n",
       "    </tr>\n",
       "    <tr>\n",
       "      <th>1</th>\n",
       "      <td>2</td>\n",
       "      <td>0.000023</td>\n",
       "      <td>2001:2d8:e66a:6a64:88dd:1e73:cab2:5129</td>\n",
       "      <td>64:ff9b::36e6:a86c</td>\n",
       "      <td>TCP</td>\n",
       "      <td>72</td>\n",
       "      <td>49666  &gt;  443 [ACK] Seq=1 Ack=398 Win=2041 Len...</td>\n",
       "    </tr>\n",
       "    <tr>\n",
       "      <th>2</th>\n",
       "      <td>3</td>\n",
       "      <td>0.000035</td>\n",
       "      <td>64:ff9b::36e6:a86c</td>\n",
       "      <td>2001:2d8:e66a:6a64:88dd:1e73:cab2:5129</td>\n",
       "      <td>TLSv1.2</td>\n",
       "      <td>103</td>\n",
       "      <td>Application Data</td>\n",
       "    </tr>\n",
       "    <tr>\n",
       "      <th>3</th>\n",
       "      <td>4</td>\n",
       "      <td>0.000230</td>\n",
       "      <td>64:ff9b::36e6:a86c</td>\n",
       "      <td>2001:2d8:e66a:6a64:88dd:1e73:cab2:5129</td>\n",
       "      <td>TCP</td>\n",
       "      <td>103</td>\n",
       "      <td>[TCP Retransmission] 443  &gt;  49666 [PSH, ACK] ...</td>\n",
       "    </tr>\n",
       "    <tr>\n",
       "      <th>4</th>\n",
       "      <td>5</td>\n",
       "      <td>0.000273</td>\n",
       "      <td>64:ff9b::924b:32a7</td>\n",
       "      <td>2001:2d8:e66a:6a64:88dd:1e73:cab2:5129</td>\n",
       "      <td>TLSv1.2</td>\n",
       "      <td>426</td>\n",
       "      <td>Application Data, Application Data</td>\n",
       "    </tr>\n",
       "  </tbody>\n",
       "</table>\n",
       "</div>"
      ],
      "text/plain": [
       "   No.      Time                                  Source  \\\n",
       "0    1  0.000000                      64:ff9b::36e6:a86c   \n",
       "1    2  0.000023  2001:2d8:e66a:6a64:88dd:1e73:cab2:5129   \n",
       "2    3  0.000035                      64:ff9b::36e6:a86c   \n",
       "3    4  0.000230                      64:ff9b::36e6:a86c   \n",
       "4    5  0.000273                      64:ff9b::924b:32a7   \n",
       "\n",
       "                              Destination Protocol  Length  \\\n",
       "0  2001:2d8:e66a:6a64:88dd:1e73:cab2:5129  TLSv1.2     469   \n",
       "1                      64:ff9b::36e6:a86c      TCP      72   \n",
       "2  2001:2d8:e66a:6a64:88dd:1e73:cab2:5129  TLSv1.2     103   \n",
       "3  2001:2d8:e66a:6a64:88dd:1e73:cab2:5129      TCP     103   \n",
       "4  2001:2d8:e66a:6a64:88dd:1e73:cab2:5129  TLSv1.2     426   \n",
       "\n",
       "                                                Info  \n",
       "0                                   Application Data  \n",
       "1  49666  >  443 [ACK] Seq=1 Ack=398 Win=2041 Len...  \n",
       "2                                   Application Data  \n",
       "3  [TCP Retransmission] 443  >  49666 [PSH, ACK] ...  \n",
       "4                 Application Data, Application Data  "
      ]
     },
     "execution_count": 3,
     "metadata": {},
     "output_type": "execute_result"
    }
   ],
   "source": [
    "data.head()"
   ]
  },
  {
   "cell_type": "code",
   "execution_count": 4,
   "id": "1f40c02a",
   "metadata": {},
   "outputs": [
    {
     "data": {
      "text/html": [
       "<div>\n",
       "<style scoped>\n",
       "    .dataframe tbody tr th:only-of-type {\n",
       "        vertical-align: middle;\n",
       "    }\n",
       "\n",
       "    .dataframe tbody tr th {\n",
       "        vertical-align: top;\n",
       "    }\n",
       "\n",
       "    .dataframe thead th {\n",
       "        text-align: right;\n",
       "    }\n",
       "</style>\n",
       "<table border=\"1\" class=\"dataframe\">\n",
       "  <thead>\n",
       "    <tr style=\"text-align: right;\">\n",
       "      <th></th>\n",
       "      <th>No.</th>\n",
       "      <th>Time</th>\n",
       "      <th>Source</th>\n",
       "      <th>Destination</th>\n",
       "      <th>Protocol</th>\n",
       "      <th>Length</th>\n",
       "      <th>Info</th>\n",
       "    </tr>\n",
       "  </thead>\n",
       "  <tbody>\n",
       "    <tr>\n",
       "      <th>0</th>\n",
       "      <td>1</td>\n",
       "      <td>0.000000</td>\n",
       "      <td>64:ff9b::36e6:a86c</td>\n",
       "      <td>2001:2d8:e66a:6a64:88dd:1e73:cab2:5129</td>\n",
       "      <td>TLSv1.2</td>\n",
       "      <td>469</td>\n",
       "      <td>Application Data</td>\n",
       "    </tr>\n",
       "    <tr>\n",
       "      <th>1</th>\n",
       "      <td>2</td>\n",
       "      <td>0.000023</td>\n",
       "      <td>2001:2d8:e66a:6a64:88dd:1e73:cab2:5129</td>\n",
       "      <td>64:ff9b::36e6:a86c</td>\n",
       "      <td>TCP</td>\n",
       "      <td>72</td>\n",
       "      <td>49666  &gt;  443 [ACK] Seq=1 Ack=398 Win=2041 Len...</td>\n",
       "    </tr>\n",
       "    <tr>\n",
       "      <th>2</th>\n",
       "      <td>3</td>\n",
       "      <td>0.000035</td>\n",
       "      <td>64:ff9b::36e6:a86c</td>\n",
       "      <td>2001:2d8:e66a:6a64:88dd:1e73:cab2:5129</td>\n",
       "      <td>TLSv1.2</td>\n",
       "      <td>103</td>\n",
       "      <td>Application Data</td>\n",
       "    </tr>\n",
       "    <tr>\n",
       "      <th>3</th>\n",
       "      <td>4</td>\n",
       "      <td>0.000230</td>\n",
       "      <td>64:ff9b::36e6:a86c</td>\n",
       "      <td>2001:2d8:e66a:6a64:88dd:1e73:cab2:5129</td>\n",
       "      <td>TCP</td>\n",
       "      <td>103</td>\n",
       "      <td>[TCP Retransmission] 443  &gt;  49666 [PSH, ACK] ...</td>\n",
       "    </tr>\n",
       "    <tr>\n",
       "      <th>4</th>\n",
       "      <td>5</td>\n",
       "      <td>0.000273</td>\n",
       "      <td>64:ff9b::924b:32a7</td>\n",
       "      <td>2001:2d8:e66a:6a64:88dd:1e73:cab2:5129</td>\n",
       "      <td>TLSv1.2</td>\n",
       "      <td>426</td>\n",
       "      <td>Application Data, Application Data</td>\n",
       "    </tr>\n",
       "  </tbody>\n",
       "</table>\n",
       "</div>"
      ],
      "text/plain": [
       "   No.      Time                                  Source  \\\n",
       "0    1  0.000000                      64:ff9b::36e6:a86c   \n",
       "1    2  0.000023  2001:2d8:e66a:6a64:88dd:1e73:cab2:5129   \n",
       "2    3  0.000035                      64:ff9b::36e6:a86c   \n",
       "3    4  0.000230                      64:ff9b::36e6:a86c   \n",
       "4    5  0.000273                      64:ff9b::924b:32a7   \n",
       "\n",
       "                              Destination Protocol  Length  \\\n",
       "0  2001:2d8:e66a:6a64:88dd:1e73:cab2:5129  TLSv1.2     469   \n",
       "1                      64:ff9b::36e6:a86c      TCP      72   \n",
       "2  2001:2d8:e66a:6a64:88dd:1e73:cab2:5129  TLSv1.2     103   \n",
       "3  2001:2d8:e66a:6a64:88dd:1e73:cab2:5129      TCP     103   \n",
       "4  2001:2d8:e66a:6a64:88dd:1e73:cab2:5129  TLSv1.2     426   \n",
       "\n",
       "                                                Info  \n",
       "0                                   Application Data  \n",
       "1  49666  >  443 [ACK] Seq=1 Ack=398 Win=2041 Len...  \n",
       "2                                   Application Data  \n",
       "3  [TCP Retransmission] 443  >  49666 [PSH, ACK] ...  \n",
       "4                 Application Data, Application Data  "
      ]
     },
     "execution_count": 4,
     "metadata": {},
     "output_type": "execute_result"
    }
   ],
   "source": [
    "data1 = data\n",
    "data1.head()"
   ]
  },
  {
   "cell_type": "code",
   "execution_count": 5,
   "id": "238c3a34",
   "metadata": {},
   "outputs": [
    {
     "data": {
      "text/html": [
       "<div>\n",
       "<style scoped>\n",
       "    .dataframe tbody tr th:only-of-type {\n",
       "        vertical-align: middle;\n",
       "    }\n",
       "\n",
       "    .dataframe tbody tr th {\n",
       "        vertical-align: top;\n",
       "    }\n",
       "\n",
       "    .dataframe thead th {\n",
       "        text-align: right;\n",
       "    }\n",
       "</style>\n",
       "<table border=\"1\" class=\"dataframe\">\n",
       "  <thead>\n",
       "    <tr style=\"text-align: right;\">\n",
       "      <th></th>\n",
       "      <th>Time</th>\n",
       "      <th>Source</th>\n",
       "      <th>Destination</th>\n",
       "      <th>Length</th>\n",
       "    </tr>\n",
       "  </thead>\n",
       "  <tbody>\n",
       "    <tr>\n",
       "      <th>0</th>\n",
       "      <td>0.000000</td>\n",
       "      <td>64:ff9b::36e6:a86c</td>\n",
       "      <td>2001:2d8:e66a:6a64:88dd:1e73:cab2:5129</td>\n",
       "      <td>469</td>\n",
       "    </tr>\n",
       "    <tr>\n",
       "      <th>1</th>\n",
       "      <td>0.000023</td>\n",
       "      <td>2001:2d8:e66a:6a64:88dd:1e73:cab2:5129</td>\n",
       "      <td>64:ff9b::36e6:a86c</td>\n",
       "      <td>72</td>\n",
       "    </tr>\n",
       "    <tr>\n",
       "      <th>2</th>\n",
       "      <td>0.000035</td>\n",
       "      <td>64:ff9b::36e6:a86c</td>\n",
       "      <td>2001:2d8:e66a:6a64:88dd:1e73:cab2:5129</td>\n",
       "      <td>103</td>\n",
       "    </tr>\n",
       "    <tr>\n",
       "      <th>3</th>\n",
       "      <td>0.000230</td>\n",
       "      <td>64:ff9b::36e6:a86c</td>\n",
       "      <td>2001:2d8:e66a:6a64:88dd:1e73:cab2:5129</td>\n",
       "      <td>103</td>\n",
       "    </tr>\n",
       "    <tr>\n",
       "      <th>4</th>\n",
       "      <td>0.000273</td>\n",
       "      <td>64:ff9b::924b:32a7</td>\n",
       "      <td>2001:2d8:e66a:6a64:88dd:1e73:cab2:5129</td>\n",
       "      <td>426</td>\n",
       "    </tr>\n",
       "  </tbody>\n",
       "</table>\n",
       "</div>"
      ],
      "text/plain": [
       "       Time                                  Source  \\\n",
       "0  0.000000                      64:ff9b::36e6:a86c   \n",
       "1  0.000023  2001:2d8:e66a:6a64:88dd:1e73:cab2:5129   \n",
       "2  0.000035                      64:ff9b::36e6:a86c   \n",
       "3  0.000230                      64:ff9b::36e6:a86c   \n",
       "4  0.000273                      64:ff9b::924b:32a7   \n",
       "\n",
       "                              Destination  Length  \n",
       "0  2001:2d8:e66a:6a64:88dd:1e73:cab2:5129     469  \n",
       "1                      64:ff9b::36e6:a86c      72  \n",
       "2  2001:2d8:e66a:6a64:88dd:1e73:cab2:5129     103  \n",
       "3  2001:2d8:e66a:6a64:88dd:1e73:cab2:5129     103  \n",
       "4  2001:2d8:e66a:6a64:88dd:1e73:cab2:5129     426  "
      ]
     },
     "execution_count": 5,
     "metadata": {},
     "output_type": "execute_result"
    }
   ],
   "source": [
    "data1 = data1.drop(['No.', 'Protocol', 'Info'], axis = 1)\n",
    "data1.head()"
   ]
  },
  {
   "cell_type": "code",
   "execution_count": 6,
   "id": "0d48aeb2",
   "metadata": {},
   "outputs": [],
   "source": [
    "p = data1.Source.str.startswith('64')\n",
    "data1.loc[p, 'Source'] = 'phone'\n",
    "p = data1.Destination.str.startswith('64')\n",
    "data1.loc[p, 'Destination'] = 'phone'"
   ]
  },
  {
   "cell_type": "code",
   "execution_count": 7,
   "id": "901831f7",
   "metadata": {},
   "outputs": [],
   "source": [
    "b = data1.Source.str.contains(':')\n",
    "data1.loc[b, 'Source'] = 'base'\n",
    "b = data1.Destination.str.contains(':')\n",
    "data1.loc[b, 'Destination'] = 'base'"
   ]
  },
  {
   "cell_type": "code",
   "execution_count": 8,
   "id": "140a7255",
   "metadata": {},
   "outputs": [],
   "source": [
    "data1['Link'] = data1.apply(lambda a: \"UL\" if a.Source == 'phone' else \"DL\", axis = 1)"
   ]
  },
  {
   "cell_type": "code",
   "execution_count": 9,
   "id": "3751063b",
   "metadata": {},
   "outputs": [],
   "source": [
    "ul = []\n",
    "dl = []\n",
    "columns = ['time', 'traffic']\n",
    "\n",
    "for i in data1.values:\n",
    "    if i[4] == \"UL\":\n",
    "        ul.append([i[0], int(i[3])])\n",
    "    elif i[4] == \"DL\":\n",
    "        dl.append([i[0], int(i[3])])\n",
    "\n",
    "ul = np.array(ul)\n",
    "dl = np.array(dl)"
   ]
  },
  {
   "cell_type": "code",
   "execution_count": 10,
   "id": "dedd77cd",
   "metadata": {},
   "outputs": [
    {
     "name": "stdout",
     "output_type": "stream",
     "text": [
      "{3585, 1029, 1030, 3591, 525, 530, 531, 3606, 542, 3618, 1060, 40, 3624, 47, 1595, 1087, 3140, 1093, 2118, 1613, 591, 2127, 3678, 1129, 618, 1135, 2674, 627, 3715, 2193, 3224, 164, 2214, 1198, 176, 1211, 3260, 2238, 194, 1219, 3269, 2247, 3272, 1228, 206, 2256, 2257, 1748, 3284, 3285, 2776, 732, 2782, 2783, 1769, 1770, 3308, 3309, 756, 248, 1802, 2316, 2317, 2322, 2323, 2328, 1312, 1318, 1319, 2875, 834, 835, 2376, 1354, 2388, 858, 859, 2418, 2938, 384, 2433, 3464, 398, 399, 2448, 2449, 3476, 3488, 3489, 3507, 2998, 2999, 440, 441, 2490, 2491, 3004, 3005, 3512, 3513, 960, 2496, 1474, 3519, 2515, 2007, 984, 985, 3549, 2019, 3561, 491, 3053, 494, 3065}\n"
     ]
    }
   ],
   "source": [
    "a = np.arange(1, 3716)    # 기록 시간\n",
    "a = set(a)\n",
    "b = []\n",
    "ult = ul.T[0]\n",
    "for i in ult:\n",
    "    b.append(int(i))\n",
    "b = set(b)\n",
    "print(a-b)"
   ]
  },
  {
   "cell_type": "code",
   "execution_count": 11,
   "id": "1faaa05c",
   "metadata": {},
   "outputs": [],
   "source": [
    "ul_bitrate = []\n",
    "dl_bitrate = []\n",
    "\n",
    "tps = 0    # traffic per second\n",
    "cnt = 1\n",
    "not_measured = list(a-b)\n",
    "\n",
    "for i, j in ul:\n",
    "    time = i\n",
    "    traffic = j\n",
    "    \n",
    "    tps += traffic\n",
    "\n",
    "    if int(i) == cnt:\n",
    "        tps = tps * 8 / 1000\n",
    "        ul_bitrate.append([cnt, tps])\n",
    "        cnt += 1\n",
    "        tps = 0\n",
    "    if cnt in not_measured:\n",
    "        cnt += 1\n",
    "    \n",
    "    if i == len(ul) - 1:\n",
    "        tps = tps * 8 / 1000\n",
    "        ul_bitrate.append([cnt, tps])"
   ]
  },
  {
   "cell_type": "code",
   "execution_count": 12,
   "id": "2365cf87",
   "metadata": {},
   "outputs": [
    {
     "name": "stdout",
     "output_type": "stream",
     "text": [
      "{2433, 3715, 1029, 3464, 2316, 398, 1038, 2448, 530, 2322, 2328, 25, 2329, 542, 3488, 1318, 40, 52, 182, 1462, 440, 2998, 2490, 2875, 3004, 3512, 2496, 834, 1474, 2376, 1354, 2256, 2388, 3284, 984, 2776, 858, 2782, 2019, 2024, 1769, 107, 491, 3308, 494, 2418, 2938}\n"
     ]
    }
   ],
   "source": [
    "a = np.arange(1, 3716)\n",
    "a = set(a)\n",
    "b = []\n",
    "dlt = dl.T[0]\n",
    "for i in dlt:\n",
    "    b.append(int(i))\n",
    "b = set(b)\n",
    "print(a-b)"
   ]
  },
  {
   "cell_type": "code",
   "execution_count": 13,
   "id": "58a7979c",
   "metadata": {},
   "outputs": [],
   "source": [
    "tps = 0    # traffic per second\n",
    "cnt = 1\n",
    "not_measured = list(a-b)\n",
    "\n",
    "for i, j in dl:\n",
    "    time = i\n",
    "    traffic = j\n",
    "    \n",
    "    tps += traffic\n",
    "\n",
    "    if int(i) == cnt:\n",
    "        tps = tps * 8 / 1000\n",
    "        dl_bitrate.append([cnt, tps])\n",
    "        cnt += 1\n",
    "        tps = 0\n",
    "    if cnt in not_measured:\n",
    "        cnt += 1\n",
    "    \n",
    "    if i == len(dl) - 1:\n",
    "        tps = tps * 8 / 1000\n",
    "        dl_bitrate.append([cnt, tps])"
   ]
  },
  {
   "cell_type": "code",
   "execution_count": 14,
   "id": "96a5074a",
   "metadata": {},
   "outputs": [],
   "source": [
    "ul_bitrate = np.array(ul_bitrate)\n",
    "dl_bitrate = np.array(dl_bitrate)"
   ]
  },
  {
   "cell_type": "code",
   "execution_count": 15,
   "id": "686845dd",
   "metadata": {},
   "outputs": [
    {
     "data": {
      "text/html": [
       "<div>\n",
       "<style scoped>\n",
       "    .dataframe tbody tr th:only-of-type {\n",
       "        vertical-align: middle;\n",
       "    }\n",
       "\n",
       "    .dataframe tbody tr th {\n",
       "        vertical-align: top;\n",
       "    }\n",
       "\n",
       "    .dataframe thead th {\n",
       "        text-align: right;\n",
       "    }\n",
       "</style>\n",
       "<table border=\"1\" class=\"dataframe\">\n",
       "  <thead>\n",
       "    <tr style=\"text-align: right;\">\n",
       "      <th></th>\n",
       "      <th>0</th>\n",
       "      <th>1</th>\n",
       "    </tr>\n",
       "  </thead>\n",
       "  <tbody>\n",
       "    <tr>\n",
       "      <th>0</th>\n",
       "      <td>1.0</td>\n",
       "      <td>29.808</td>\n",
       "    </tr>\n",
       "    <tr>\n",
       "      <th>1</th>\n",
       "      <td>2.0</td>\n",
       "      <td>24.024</td>\n",
       "    </tr>\n",
       "    <tr>\n",
       "      <th>2</th>\n",
       "      <td>3.0</td>\n",
       "      <td>10.536</td>\n",
       "    </tr>\n",
       "    <tr>\n",
       "      <th>3</th>\n",
       "      <td>4.0</td>\n",
       "      <td>15.280</td>\n",
       "    </tr>\n",
       "    <tr>\n",
       "      <th>4</th>\n",
       "      <td>5.0</td>\n",
       "      <td>3.760</td>\n",
       "    </tr>\n",
       "    <tr>\n",
       "      <th>...</th>\n",
       "      <td>...</td>\n",
       "      <td>...</td>\n",
       "    </tr>\n",
       "    <tr>\n",
       "      <th>3595</th>\n",
       "      <td>3710.0</td>\n",
       "      <td>5.536</td>\n",
       "    </tr>\n",
       "    <tr>\n",
       "      <th>3596</th>\n",
       "      <td>3711.0</td>\n",
       "      <td>5683.960</td>\n",
       "    </tr>\n",
       "    <tr>\n",
       "      <th>3597</th>\n",
       "      <td>3712.0</td>\n",
       "      <td>2077.760</td>\n",
       "    </tr>\n",
       "    <tr>\n",
       "      <th>3598</th>\n",
       "      <td>3713.0</td>\n",
       "      <td>14.600</td>\n",
       "    </tr>\n",
       "    <tr>\n",
       "      <th>3599</th>\n",
       "      <td>3714.0</td>\n",
       "      <td>14596.440</td>\n",
       "    </tr>\n",
       "  </tbody>\n",
       "</table>\n",
       "<p>3600 rows × 2 columns</p>\n",
       "</div>"
      ],
      "text/plain": [
       "           0          1\n",
       "0        1.0     29.808\n",
       "1        2.0     24.024\n",
       "2        3.0     10.536\n",
       "3        4.0     15.280\n",
       "4        5.0      3.760\n",
       "...      ...        ...\n",
       "3595  3710.0      5.536\n",
       "3596  3711.0   5683.960\n",
       "3597  3712.0   2077.760\n",
       "3598  3713.0     14.600\n",
       "3599  3714.0  14596.440\n",
       "\n",
       "[3600 rows x 2 columns]"
      ]
     },
     "execution_count": 15,
     "metadata": {},
     "output_type": "execute_result"
    }
   ],
   "source": [
    "df = pd.DataFrame(ul_bitrate)\n",
    "df"
   ]
  },
  {
   "cell_type": "code",
   "execution_count": 16,
   "id": "479c16f9",
   "metadata": {},
   "outputs": [
    {
     "data": {
      "text/plain": [
       "array([[2.980800e+01],\n",
       "       [2.402400e+01],\n",
       "       [1.053600e+01],\n",
       "       ...,\n",
       "       [2.077760e+03],\n",
       "       [1.460000e+01],\n",
       "       [1.459644e+04]])"
      ]
     },
     "execution_count": 16,
     "metadata": {},
     "output_type": "execute_result"
    }
   ],
   "source": [
    "seq= df[[1]].to_numpy()\n",
    "seq"
   ]
  },
  {
   "cell_type": "code",
   "execution_count": 17,
   "id": "72281516",
   "metadata": {},
   "outputs": [],
   "source": [
    "from statsmodels.tsa.arima_model import ARIMA"
   ]
  },
  {
   "cell_type": "code",
   "execution_count": 18,
   "id": "8c68d603",
   "metadata": {},
   "outputs": [],
   "source": [
    "def my_auto_arima(data, order,sort = 'AIC'):\n",
    "    order_list = []\n",
    "    aic_list = []\n",
    "    bic_lsit = []\n",
    "    for p in range(order[0]):\n",
    "            for d in range(order[1]):\n",
    "                 for q in range(order[2]):\n",
    "                        model = ARIMA(data, order=(p,d,q))\n",
    "                        try:\n",
    "                            model_fit = model.fit()\n",
    "                            c_order = f'p{p} d{d} q{q}'\n",
    "                            aic = model_fit.aic\n",
    "                            bic = model_fit.bic\n",
    "                            order_list.append(c_order)\n",
    "                            aic_list.append(aic)\n",
    "                            bic_list.append(bic)\n",
    "                        except:\n",
    "                            pass\n",
    "    result_df = pd.DataFrame(list(zip(order_list, aic_list)),columns=['order','AIC'])\n",
    "    result_df.sort_values(sort, inplace=True)\n",
    "    return result_df"
   ]
  },
  {
   "cell_type": "code",
   "execution_count": null,
   "id": "f278eb38",
   "metadata": {},
   "outputs": [
    {
     "name": "stderr",
     "output_type": "stream",
     "text": [
      "C:\\Users\\o9906\\anaconda3\\lib\\site-packages\\statsmodels\\tsa\\arima_model.py:472: FutureWarning: \n",
      "statsmodels.tsa.arima_model.ARMA and statsmodels.tsa.arima_model.ARIMA have\n",
      "been deprecated in favor of statsmodels.tsa.arima.model.ARIMA (note the .\n",
      "between arima and model) and\n",
      "statsmodels.tsa.SARIMAX. These will be removed after the 0.12 release.\n",
      "\n",
      "statsmodels.tsa.arima.model.ARIMA makes use of the statespace framework and\n",
      "is both well tested and maintained.\n",
      "\n",
      "To silence this warning and continue using ARMA and ARIMA until they are\n",
      "removed, use:\n",
      "\n",
      "import warnings\n",
      "warnings.filterwarnings('ignore', 'statsmodels.tsa.arima_model.ARMA',\n",
      "                        FutureWarning)\n",
      "warnings.filterwarnings('ignore', 'statsmodels.tsa.arima_model.ARIMA',\n",
      "                        FutureWarning)\n",
      "\n",
      "  warnings.warn(ARIMA_DEPRECATION_WARN, FutureWarning)\n",
      "C:\\Users\\o9906\\anaconda3\\lib\\site-packages\\statsmodels\\base\\model.py:566: ConvergenceWarning: Maximum Likelihood optimization failed to converge. Check mle_retvals\n",
      "  warnings.warn(\"Maximum Likelihood optimization failed to \"\n",
      "C:\\Users\\o9906\\anaconda3\\lib\\site-packages\\statsmodels\\tsa\\arima_model.py:472: FutureWarning: \n",
      "statsmodels.tsa.arima_model.ARMA and statsmodels.tsa.arima_model.ARIMA have\n",
      "been deprecated in favor of statsmodels.tsa.arima.model.ARIMA (note the .\n",
      "between arima and model) and\n",
      "statsmodels.tsa.SARIMAX. These will be removed after the 0.12 release.\n",
      "\n",
      "statsmodels.tsa.arima.model.ARIMA makes use of the statespace framework and\n",
      "is both well tested and maintained.\n",
      "\n",
      "To silence this warning and continue using ARMA and ARIMA until they are\n",
      "removed, use:\n",
      "\n",
      "import warnings\n",
      "warnings.filterwarnings('ignore', 'statsmodels.tsa.arima_model.ARMA',\n",
      "                        FutureWarning)\n",
      "warnings.filterwarnings('ignore', 'statsmodels.tsa.arima_model.ARIMA',\n",
      "                        FutureWarning)\n",
      "\n",
      "  warnings.warn(ARIMA_DEPRECATION_WARN, FutureWarning)\n",
      "C:\\Users\\o9906\\anaconda3\\lib\\site-packages\\statsmodels\\tsa\\arima_model.py:472: FutureWarning: \n",
      "statsmodels.tsa.arima_model.ARMA and statsmodels.tsa.arima_model.ARIMA have\n",
      "been deprecated in favor of statsmodels.tsa.arima.model.ARIMA (note the .\n",
      "between arima and model) and\n",
      "statsmodels.tsa.SARIMAX. These will be removed after the 0.12 release.\n",
      "\n",
      "statsmodels.tsa.arima.model.ARIMA makes use of the statespace framework and\n",
      "is both well tested and maintained.\n",
      "\n",
      "To silence this warning and continue using ARMA and ARIMA until they are\n",
      "removed, use:\n",
      "\n",
      "import warnings\n",
      "warnings.filterwarnings('ignore', 'statsmodels.tsa.arima_model.ARMA',\n",
      "                        FutureWarning)\n",
      "warnings.filterwarnings('ignore', 'statsmodels.tsa.arima_model.ARIMA',\n",
      "                        FutureWarning)\n",
      "\n",
      "  warnings.warn(ARIMA_DEPRECATION_WARN, FutureWarning)\n",
      "C:\\Users\\o9906\\anaconda3\\lib\\site-packages\\statsmodels\\tsa\\arima_model.py:472: FutureWarning: \n",
      "statsmodels.tsa.arima_model.ARMA and statsmodels.tsa.arima_model.ARIMA have\n",
      "been deprecated in favor of statsmodels.tsa.arima.model.ARIMA (note the .\n",
      "between arima and model) and\n",
      "statsmodels.tsa.SARIMAX. These will be removed after the 0.12 release.\n",
      "\n",
      "statsmodels.tsa.arima.model.ARIMA makes use of the statespace framework and\n",
      "is both well tested and maintained.\n",
      "\n",
      "To silence this warning and continue using ARMA and ARIMA until they are\n",
      "removed, use:\n",
      "\n",
      "import warnings\n",
      "warnings.filterwarnings('ignore', 'statsmodels.tsa.arima_model.ARMA',\n",
      "                        FutureWarning)\n",
      "warnings.filterwarnings('ignore', 'statsmodels.tsa.arima_model.ARIMA',\n",
      "                        FutureWarning)\n",
      "\n",
      "  warnings.warn(ARIMA_DEPRECATION_WARN, FutureWarning)\n",
      "C:\\Users\\o9906\\anaconda3\\lib\\site-packages\\statsmodels\\tsa\\arima_model.py:472: FutureWarning: \n",
      "statsmodels.tsa.arima_model.ARMA and statsmodels.tsa.arima_model.ARIMA have\n",
      "been deprecated in favor of statsmodels.tsa.arima.model.ARIMA (note the .\n",
      "between arima and model) and\n",
      "statsmodels.tsa.SARIMAX. These will be removed after the 0.12 release.\n",
      "\n",
      "statsmodels.tsa.arima.model.ARIMA makes use of the statespace framework and\n",
      "is both well tested and maintained.\n",
      "\n",
      "To silence this warning and continue using ARMA and ARIMA until they are\n",
      "removed, use:\n",
      "\n",
      "import warnings\n",
      "warnings.filterwarnings('ignore', 'statsmodels.tsa.arima_model.ARMA',\n",
      "                        FutureWarning)\n",
      "warnings.filterwarnings('ignore', 'statsmodels.tsa.arima_model.ARIMA',\n",
      "                        FutureWarning)\n",
      "\n",
      "  warnings.warn(ARIMA_DEPRECATION_WARN, FutureWarning)\n",
      "C:\\Users\\o9906\\anaconda3\\lib\\site-packages\\statsmodels\\tsa\\arima_model.py:472: FutureWarning: \n",
      "statsmodels.tsa.arima_model.ARMA and statsmodels.tsa.arima_model.ARIMA have\n",
      "been deprecated in favor of statsmodels.tsa.arima.model.ARIMA (note the .\n",
      "between arima and model) and\n",
      "statsmodels.tsa.SARIMAX. These will be removed after the 0.12 release.\n",
      "\n",
      "statsmodels.tsa.arima.model.ARIMA makes use of the statespace framework and\n",
      "is both well tested and maintained.\n",
      "\n",
      "To silence this warning and continue using ARMA and ARIMA until they are\n",
      "removed, use:\n",
      "\n",
      "import warnings\n",
      "warnings.filterwarnings('ignore', 'statsmodels.tsa.arima_model.ARMA',\n",
      "                        FutureWarning)\n",
      "warnings.filterwarnings('ignore', 'statsmodels.tsa.arima_model.ARIMA',\n",
      "                        FutureWarning)\n",
      "\n",
      "  warnings.warn(ARIMA_DEPRECATION_WARN, FutureWarning)\n",
      "C:\\Users\\o9906\\anaconda3\\lib\\site-packages\\statsmodels\\tsa\\arima_model.py:472: FutureWarning: \n",
      "statsmodels.tsa.arima_model.ARMA and statsmodels.tsa.arima_model.ARIMA have\n",
      "been deprecated in favor of statsmodels.tsa.arima.model.ARIMA (note the .\n",
      "between arima and model) and\n",
      "statsmodels.tsa.SARIMAX. These will be removed after the 0.12 release.\n",
      "\n",
      "statsmodels.tsa.arima.model.ARIMA makes use of the statespace framework and\n",
      "is both well tested and maintained.\n",
      "\n",
      "To silence this warning and continue using ARMA and ARIMA until they are\n",
      "removed, use:\n",
      "\n",
      "import warnings\n",
      "warnings.filterwarnings('ignore', 'statsmodels.tsa.arima_model.ARMA',\n",
      "                        FutureWarning)\n",
      "warnings.filterwarnings('ignore', 'statsmodels.tsa.arima_model.ARIMA',\n",
      "                        FutureWarning)\n",
      "\n",
      "  warnings.warn(ARIMA_DEPRECATION_WARN, FutureWarning)\n",
      "C:\\Users\\o9906\\anaconda3\\lib\\site-packages\\statsmodels\\tsa\\arima_model.py:472: FutureWarning: \n",
      "statsmodels.tsa.arima_model.ARMA and statsmodels.tsa.arima_model.ARIMA have\n",
      "been deprecated in favor of statsmodels.tsa.arima.model.ARIMA (note the .\n",
      "between arima and model) and\n",
      "statsmodels.tsa.SARIMAX. These will be removed after the 0.12 release.\n",
      "\n",
      "statsmodels.tsa.arima.model.ARIMA makes use of the statespace framework and\n",
      "is both well tested and maintained.\n",
      "\n",
      "To silence this warning and continue using ARMA and ARIMA until they are\n",
      "removed, use:\n",
      "\n",
      "import warnings\n",
      "warnings.filterwarnings('ignore', 'statsmodels.tsa.arima_model.ARMA',\n",
      "                        FutureWarning)\n",
      "warnings.filterwarnings('ignore', 'statsmodels.tsa.arima_model.ARIMA',\n",
      "                        FutureWarning)\n",
      "\n",
      "  warnings.warn(ARIMA_DEPRECATION_WARN, FutureWarning)\n",
      "C:\\Users\\o9906\\anaconda3\\lib\\site-packages\\statsmodels\\tsa\\arima_model.py:472: FutureWarning: \n",
      "statsmodels.tsa.arima_model.ARMA and statsmodels.tsa.arima_model.ARIMA have\n",
      "been deprecated in favor of statsmodels.tsa.arima.model.ARIMA (note the .\n",
      "between arima and model) and\n",
      "statsmodels.tsa.SARIMAX. These will be removed after the 0.12 release.\n",
      "\n",
      "statsmodels.tsa.arima.model.ARIMA makes use of the statespace framework and\n",
      "is both well tested and maintained.\n",
      "\n",
      "To silence this warning and continue using ARMA and ARIMA until they are\n",
      "removed, use:\n",
      "\n",
      "import warnings\n",
      "warnings.filterwarnings('ignore', 'statsmodels.tsa.arima_model.ARMA',\n",
      "                        FutureWarning)\n",
      "warnings.filterwarnings('ignore', 'statsmodels.tsa.arima_model.ARIMA',\n",
      "                        FutureWarning)\n",
      "\n",
      "  warnings.warn(ARIMA_DEPRECATION_WARN, FutureWarning)\n",
      "C:\\Users\\o9906\\anaconda3\\lib\\site-packages\\statsmodels\\tsa\\arima_model.py:472: FutureWarning: \n",
      "statsmodels.tsa.arima_model.ARMA and statsmodels.tsa.arima_model.ARIMA have\n",
      "been deprecated in favor of statsmodels.tsa.arima.model.ARIMA (note the .\n",
      "between arima and model) and\n",
      "statsmodels.tsa.SARIMAX. These will be removed after the 0.12 release.\n",
      "\n",
      "statsmodels.tsa.arima.model.ARIMA makes use of the statespace framework and\n",
      "is both well tested and maintained.\n",
      "\n",
      "To silence this warning and continue using ARMA and ARIMA until they are\n",
      "removed, use:\n",
      "\n",
      "import warnings\n",
      "warnings.filterwarnings('ignore', 'statsmodels.tsa.arima_model.ARMA',\n",
      "                        FutureWarning)\n",
      "warnings.filterwarnings('ignore', 'statsmodels.tsa.arima_model.ARIMA',\n",
      "                        FutureWarning)\n",
      "\n",
      "  warnings.warn(ARIMA_DEPRECATION_WARN, FutureWarning)\n"
     ]
    }
   ],
   "source": [
    "my_auto_arima(seq,[3,3,3])"
   ]
  },
  {
   "cell_type": "code",
   "execution_count": 29,
   "id": "51e4060d",
   "metadata": {},
   "outputs": [
    {
     "name": "stderr",
     "output_type": "stream",
     "text": [
      "C:\\Users\\o9906\\anaconda3\\lib\\site-packages\\statsmodels\\tsa\\arima_model.py:472: FutureWarning: \n",
      "statsmodels.tsa.arima_model.ARMA and statsmodels.tsa.arima_model.ARIMA have\n",
      "been deprecated in favor of statsmodels.tsa.arima.model.ARIMA (note the .\n",
      "between arima and model) and\n",
      "statsmodels.tsa.SARIMAX. These will be removed after the 0.12 release.\n",
      "\n",
      "statsmodels.tsa.arima.model.ARIMA makes use of the statespace framework and\n",
      "is both well tested and maintained.\n",
      "\n",
      "To silence this warning and continue using ARMA and ARIMA until they are\n",
      "removed, use:\n",
      "\n",
      "import warnings\n",
      "warnings.filterwarnings('ignore', 'statsmodels.tsa.arima_model.ARMA',\n",
      "                        FutureWarning)\n",
      "warnings.filterwarnings('ignore', 'statsmodels.tsa.arima_model.ARIMA',\n",
      "                        FutureWarning)\n",
      "\n",
      "  warnings.warn(ARIMA_DEPRECATION_WARN, FutureWarning)\n"
     ]
    },
    {
     "name": "stdout",
     "output_type": "stream",
     "text": [
      "                              ARMA Model Results                              \n",
      "==============================================================================\n",
      "Dep. Variable:                      y   No. Observations:                 3600\n",
      "Model:                     ARMA(2, 2)   Log Likelihood              -34781.197\n",
      "Method:                       css-mle   S.D. of innovations           3798.559\n",
      "Date:                Tue, 03 May 2022   AIC                          69574.395\n",
      "Time:                        22:51:54   BIC                          69611.527\n",
      "Sample:                             0   HQIC                         69587.628\n",
      "                                                                              \n",
      "==============================================================================\n",
      "                 coef    std err          z      P>|z|      [0.025      0.975]\n",
      "------------------------------------------------------------------------------\n",
      "const       3836.1180     20.226    189.665      0.000    3796.476    3875.760\n",
      "ar.L1.y       -0.5283      0.027    -19.416      0.000      -0.582      -0.475\n",
      "ar.L2.y       -0.3280      0.020    -16.281      0.000      -0.367      -0.288\n",
      "ma.L1.y       -0.1345      0.026     -5.136      0.000      -0.186      -0.083\n",
      "ma.L2.y       -0.2728      0.019    -14.257      0.000      -0.310      -0.235\n",
      "                                    Roots                                    \n",
      "=============================================================================\n",
      "                  Real          Imaginary           Modulus         Frequency\n",
      "-----------------------------------------------------------------------------\n",
      "AR.1           -0.8055           -1.5493j            1.7462           -0.3263\n",
      "AR.2           -0.8055           +1.5493j            1.7462            0.3263\n",
      "MA.1            1.6840           +0.0000j            1.6840            0.0000\n",
      "MA.2           -2.1770           +0.0000j            2.1770            0.5000\n",
      "-----------------------------------------------------------------------------\n"
     ]
    },
    {
     "data": {
      "image/png": "[encoded data removed]",
      "text/plain": [
       "<Figure size 432x288 with 1 Axes>"
      ]
     },
     "metadata": {
      "needs_background": "light"
     },
     "output_type": "display_data"
    }
   ],
   "source": [
    "model = ARIMA(seq, (2,0,2))\n",
    "model_fit = model.fit()\n",
    "print(model_fit.summary())\n",
    "model_fit.plot_predict()\n",
    "plt.show()"
   ]
  },
  {
   "cell_type": "code",
   "execution_count": 31,
   "id": "b6f66d5b",
   "metadata": {},
   "outputs": [
    {
     "data": {
      "image/png": "[encoded data removed]",
      "text/plain": [
       "<Figure size 432x288 with 1 Axes>"
      ]
     },
     "metadata": {
      "needs_background": "light"
     },
     "output_type": "display_data"
    }
   ],
   "source": [
    "model_fit.plot_predict(start=2000)\n",
    "plt.show()"
   ]
  },
  {
   "cell_type": "code",
   "execution_count": 32,
   "id": "d90587eb",
   "metadata": {},
   "outputs": [
    {
     "name": "stdout",
     "output_type": "stream",
     "text": [
      " ARIMA(0,0,0)(0,0,0)[0]             : AIC=73087.826, Time=0.03 sec\n",
      " ARIMA(0,0,1)(0,0,0)[0]             : AIC=73032.083, Time=0.13 sec\n",
      " ARIMA(0,0,2)(0,0,0)[0]             : AIC=72731.646, Time=0.41 sec\n",
      " ARIMA(0,0,3)(0,0,0)[0]             : AIC=72379.366, Time=0.60 sec\n",
      " ARIMA(1,0,0)(0,0,0)[0]             : AIC=73015.151, Time=0.08 sec\n",
      " ARIMA(1,0,1)(0,0,0)[0]             : AIC=inf, Time=1.22 sec\n",
      " ARIMA(1,0,2)(0,0,0)[0]             : AIC=inf, Time=4.26 sec\n",
      " ARIMA(1,0,3)(0,0,0)[0]             : AIC=inf, Time=4.14 sec\n",
      " ARIMA(2,0,0)(0,0,0)[0]             : AIC=72870.654, Time=0.11 sec\n",
      " ARIMA(2,0,1)(0,0,0)[0]             : AIC=inf, Time=2.58 sec\n",
      " ARIMA(2,0,2)(0,0,0)[0]             : AIC=inf, Time=5.90 sec\n",
      " ARIMA(2,0,3)(0,0,0)[0]             : AIC=inf, Time=9.54 sec\n",
      " ARIMA(3,0,0)(0,0,0)[0]             : AIC=71254.270, Time=0.26 sec\n",
      " ARIMA(3,0,1)(0,0,0)[0]             : AIC=inf, Time=4.21 sec\n",
      " ARIMA(3,0,2)(0,0,0)[0]             : AIC=inf, Time=3.40 sec\n",
      "\n",
      "Best model:  ARIMA(3,0,0)(0,0,0)[0]          \n",
      "Total fit time: 36.900 seconds\n"
     ]
    },
    {
     "data": {
      "text/plain": [
       "ARIMA(order=(3, 0, 0), scoring_args={}, suppress_warnings=True,\n",
       "      with_intercept=False)"
      ]
     },
     "execution_count": 32,
     "metadata": {},
     "output_type": "execute_result"
    }
   ],
   "source": [
    "from pmdarima.arima import auto_arima\n",
    "\n",
    "model_arima= auto_arima(seq,trace=True, error_action='ignore', start_p=1,start_q=1,max_p=3,max_q=3,suppress_warnings=True,stepwise=False,seasonal=False)\n",
    "\n",
    "model_arima.fit(seq)"
   ]
  },
  {
   "cell_type": "code",
   "execution_count": 33,
   "id": "d68bd6f9",
   "metadata": {},
   "outputs": [
    {
     "name": "stdout",
     "output_type": "stream",
     "text": [
      "                              ARMA Model Results                              \n",
      "==============================================================================\n",
      "Dep. Variable:                      y   No. Observations:                 3600\n",
      "Model:                     ARMA(3, 0)   Log Likelihood              -34862.793\n",
      "Method:                       css-mle   S.D. of innovations           3885.737\n",
      "Date:                Tue, 03 May 2022   AIC                          69735.587\n",
      "Time:                        22:54:37   BIC                          69766.530\n",
      "Sample:                             0   HQIC                         69746.614\n",
      "                                                                              \n",
      "==============================================================================\n",
      "                 coef    std err          z      P>|z|      [0.025      0.975]\n",
      "------------------------------------------------------------------------------\n",
      "const       3836.1179     32.762    117.090      0.000    3771.905    3900.330\n",
      "ar.L1.y       -0.5579      0.017    -33.479      0.000      -0.591      -0.525\n",
      "ar.L2.y       -0.4687      0.017    -26.918      0.000      -0.503      -0.435\n",
      "ar.L3.y        0.0495      0.017      2.967      0.003       0.017       0.082\n",
      "                                    Roots                                    \n",
      "=============================================================================\n",
      "                  Real          Imaginary           Modulus         Frequency\n",
      "-----------------------------------------------------------------------------\n",
      "AR.1           -0.6150           -1.2290j            1.3743           -0.3238\n",
      "AR.2           -0.6150           +1.2290j            1.3743            0.3238\n",
      "AR.3           10.7075           -0.0000j           10.7075           -0.0000\n",
      "-----------------------------------------------------------------------------\n"
     ]
    },
    {
     "name": "stderr",
     "output_type": "stream",
     "text": [
      "C:\\Users\\o9906\\anaconda3\\lib\\site-packages\\statsmodels\\tsa\\arima_model.py:472: FutureWarning: \n",
      "statsmodels.tsa.arima_model.ARMA and statsmodels.tsa.arima_model.ARIMA have\n",
      "been deprecated in favor of statsmodels.tsa.arima.model.ARIMA (note the .\n",
      "between arima and model) and\n",
      "statsmodels.tsa.SARIMAX. These will be removed after the 0.12 release.\n",
      "\n",
      "statsmodels.tsa.arima.model.ARIMA makes use of the statespace framework and\n",
      "is both well tested and maintained.\n",
      "\n",
      "To silence this warning and continue using ARMA and ARIMA until they are\n",
      "removed, use:\n",
      "\n",
      "import warnings\n",
      "warnings.filterwarnings('ignore', 'statsmodels.tsa.arima_model.ARMA',\n",
      "                        FutureWarning)\n",
      "warnings.filterwarnings('ignore', 'statsmodels.tsa.arima_model.ARIMA',\n",
      "                        FutureWarning)\n",
      "\n",
      "  warnings.warn(ARIMA_DEPRECATION_WARN, FutureWarning)\n"
     ]
    }
   ],
   "source": [
    "model = ARIMA(seq, order=(3,0,0))\n",
    "\n",
    "model_fit = model.fit(disp=0)\n",
    "\n",
    "print(model_fit.summary())"
   ]
  },
  {
   "cell_type": "code",
   "execution_count": 34,
   "id": "27e668f9",
   "metadata": {},
   "outputs": [
    {
     "data": {
      "image/png": "[encoded data removed]",
      "text/plain": [
       "<Figure size 432x288 with 1 Axes>"
      ]
     },
     "metadata": {
      "needs_background": "light"
     },
     "output_type": "display_data"
    }
   ],
   "source": [
    "model_fit.plot_predict(dynamic=False)\n",
    "\n",
    "plt.show()"
   ]
  },
  {
   "cell_type": "code",
   "execution_count": 35,
   "id": "31d62381",
   "metadata": {},
   "outputs": [
    {
     "data": {
      "image/png": "[encoded data removed]",
      "text/plain": [
       "<Figure size 432x288 with 1 Axes>"
      ]
     },
     "metadata": {
      "needs_background": "light"
     },
     "output_type": "display_data"
    }
   ],
   "source": [
    "model_fit.plot_predict(start=3000)\n",
    "plt.show()"
   ]
  }
 ],
 "metadata": {
  "kernelspec": {
   "display_name": "Python 3",
   "language": "python",
   "name": "python3"
  },
  "language_info": {
   "codemirror_mode": {
    "name": "ipython",
    "version": 3
   },
   "file_extension": ".py",
   "mimetype": "text/x-python",
   "name": "python",
   "nbconvert_exporter": "python",
   "pygments_lexer": "ipython3",
   "version": "3.8.8"
  }
 },
 "nbformat": 4,
 "nbformat_minor": 5
}
